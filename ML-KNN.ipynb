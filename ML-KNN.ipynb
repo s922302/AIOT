{
 "cells": [
  {
   "cell_type": "markdown",
   "metadata": {},
   "source": [
    "[機器學習](https://zh.wikipedia.org/wiki/%E6%9C%BA%E5%99%A8%E5%AD%A6%E4%B9%A0)\n",
    "\n",
    "[最近鄰居法](https://zh.wikipedia.org/wiki/%E6%9C%80%E8%BF%91%E9%84%B0%E5%B1%85%E6%B3%95)\n",
    "\n",
    "[機器學習之利用KNN近鄰算法預測數據](https://www.itread01.com/content/1530894195.html)\n",
    "\n",
    "[輕鬆聊之KNN演算法](http://35around.blogspot.com/2014/07/knn.html)"
   ]
  },
  {
   "cell_type": "code",
   "execution_count": 5,
   "metadata": {},
   "outputs": [
    {
     "data": {
      "text/html": [
       "<div>\n",
       "<style scoped>\n",
       "    .dataframe tbody tr th:only-of-type {\n",
       "        vertical-align: middle;\n",
       "    }\n",
       "\n",
       "    .dataframe tbody tr th {\n",
       "        vertical-align: top;\n",
       "    }\n",
       "\n",
       "    .dataframe thead th {\n",
       "        text-align: right;\n",
       "    }\n",
       "</style>\n",
       "<table border=\"1\" class=\"dataframe\">\n",
       "  <thead>\n",
       "    <tr style=\"text-align: right;\">\n",
       "      <th></th>\n",
       "      <th>電影名稱</th>\n",
       "      <th>動作鏡頭</th>\n",
       "      <th>接吻鏡頭</th>\n",
       "      <th>電影類別</th>\n",
       "    </tr>\n",
       "  </thead>\n",
       "  <tbody>\n",
       "    <tr>\n",
       "      <td>0</td>\n",
       "      <td>前任三</td>\n",
       "      <td>2</td>\n",
       "      <td>15</td>\n",
       "      <td>愛情</td>\n",
       "    </tr>\n",
       "    <tr>\n",
       "      <td>1</td>\n",
       "      <td>復仇者聯盟</td>\n",
       "      <td>36</td>\n",
       "      <td>3</td>\n",
       "      <td>動作</td>\n",
       "    </tr>\n",
       "    <tr>\n",
       "      <td>2</td>\n",
       "      <td>殺破狼</td>\n",
       "      <td>24</td>\n",
       "      <td>1</td>\n",
       "      <td>動作</td>\n",
       "    </tr>\n",
       "    <tr>\n",
       "      <td>3</td>\n",
       "      <td>戰狼</td>\n",
       "      <td>29</td>\n",
       "      <td>2</td>\n",
       "      <td>動作</td>\n",
       "    </tr>\n",
       "    <tr>\n",
       "      <td>4</td>\n",
       "      <td>鐵達尼號</td>\n",
       "      <td>1</td>\n",
       "      <td>18</td>\n",
       "      <td>愛情</td>\n",
       "    </tr>\n",
       "    <tr>\n",
       "      <td>5</td>\n",
       "      <td>大話西遊</td>\n",
       "      <td>29</td>\n",
       "      <td>3</td>\n",
       "      <td>愛情</td>\n",
       "    </tr>\n",
       "    <tr>\n",
       "      <td>6</td>\n",
       "      <td>星願</td>\n",
       "      <td>2</td>\n",
       "      <td>20</td>\n",
       "      <td>愛情</td>\n",
       "    </tr>\n",
       "    <tr>\n",
       "      <td>7</td>\n",
       "      <td>西遊記</td>\n",
       "      <td>25</td>\n",
       "      <td>2</td>\n",
       "      <td>動作</td>\n",
       "    </tr>\n",
       "    <tr>\n",
       "      <td>8</td>\n",
       "      <td>七月與安生</td>\n",
       "      <td>3</td>\n",
       "      <td>19</td>\n",
       "      <td>愛情</td>\n",
       "    </tr>\n",
       "  </tbody>\n",
       "</table>\n",
       "</div>"
      ],
      "text/plain": [
       "    電影名稱  動作鏡頭  接吻鏡頭 電影類別\n",
       "0    前任三     2    15   愛情\n",
       "1  復仇者聯盟    36     3   動作\n",
       "2    殺破狼    24     1   動作\n",
       "3     戰狼    29     2   動作\n",
       "4   鐵達尼號     1    18   愛情\n",
       "5   大話西遊    29     3   愛情\n",
       "6     星願     2    20   愛情\n",
       "7    西遊記    25     2   動作\n",
       "8  七月與安生     3    19   愛情"
      ]
     },
     "execution_count": 5,
     "metadata": {},
     "output_type": "execute_result"
    }
   ],
   "source": [
    "import numpy as np\n",
    "import pandas as pd\n",
    "from pandas import Series,DataFrame\n",
    "import matplotlib.pyplot as plt\n",
    "\n",
    "\n",
    "# film = pd.read_excel('C:/Users/User/Desktop/films.xlsx',sheet_name=1)\n",
    "\n",
    "film = pd.read_excel('C:/Users/User/Desktop/films.xlsx')\n",
    "\n",
    "\n",
    "film"
   ]
  },
  {
   "cell_type": "code",
   "execution_count": 6,
   "metadata": {},
   "outputs": [
    {
     "data": {
      "text/plain": [
       "KNeighborsClassifier(algorithm='auto', leaf_size=30, metric='minkowski',\n",
       "                     metric_params=None, n_jobs=None, n_neighbors=5, p=2,\n",
       "                     weights='uniform')"
      ]
     },
     "execution_count": 6,
     "metadata": {},
     "output_type": "execute_result"
    }
   ],
   "source": [
    "# 電影的樣本特征\n",
    "train = film[['動作鏡頭','接吻鏡頭']]   \n",
    "# 樣本標簽,即要預測的標簽,這兒要預測新數據是屬於什麽類別的電影\n",
    "\n",
    "target = film['電影類別']\n",
    "\n",
    "# 創建機器學習模型,需要導入\n",
    "\n",
    "from sklearn.neighbors import KNeighborsClassifier\n",
    "\n",
    "# 創建對象, 這兒的數據因為是離散型, 所以使用 KNeighborsClassifier,\n",
    "\n",
    "knn = KNeighborsClassifier() # 預設 K = 5\n",
    "\n",
    "# 對knn模型進行訓練, 傳入樣本特征 和 樣本標簽\n",
    "# 構建函數原型、構建損失函數、求損失函數最優解\n",
    "\n",
    "knn.fit(train,target)\n",
    "knn"
   ]
  },
  {
   "cell_type": "code",
   "execution_count": 7,
   "metadata": {},
   "outputs": [
    {
     "data": {
      "text/plain": [
       "array(['愛情', '動作', '愛情'], dtype=object)"
      ]
     },
     "execution_count": 7,
     "metadata": {},
     "output_type": "execute_result"
    }
   ],
   "source": [
    "# 這兒隨意寫3個樣本數據,需要按照樣本數據的維度來寫\n",
    "\n",
    "cat=np.array([[5,19],[21,6],[23,24]])\n",
    "\n",
    "# cat=np.array([[21,4]])  也可以寫1個\n",
    "# 使用 predict函數對數據進行預測\n",
    "\n",
    "knn.predict(cat)"
   ]
  },
  {
   "cell_type": "code",
   "execution_count": 8,
   "metadata": {},
   "outputs": [
    {
     "data": {
      "text/html": [
       "<div>\n",
       "<style scoped>\n",
       "    .dataframe tbody tr th:only-of-type {\n",
       "        vertical-align: middle;\n",
       "    }\n",
       "\n",
       "    .dataframe tbody tr th {\n",
       "        vertical-align: top;\n",
       "    }\n",
       "\n",
       "    .dataframe thead th {\n",
       "        text-align: right;\n",
       "    }\n",
       "</style>\n",
       "<table border=\"1\" class=\"dataframe\">\n",
       "  <thead>\n",
       "    <tr style=\"text-align: right;\">\n",
       "      <th></th>\n",
       "      <th>電影名稱</th>\n",
       "      <th>動作鏡頭</th>\n",
       "      <th>接吻鏡頭</th>\n",
       "      <th>電影類別</th>\n",
       "    </tr>\n",
       "  </thead>\n",
       "  <tbody>\n",
       "    <tr>\n",
       "      <td>0</td>\n",
       "      <td>前任三</td>\n",
       "      <td>2</td>\n",
       "      <td>15</td>\n",
       "      <td>愛情</td>\n",
       "    </tr>\n",
       "    <tr>\n",
       "      <td>4</td>\n",
       "      <td>鐵達尼號</td>\n",
       "      <td>1</td>\n",
       "      <td>18</td>\n",
       "      <td>愛情</td>\n",
       "    </tr>\n",
       "    <tr>\n",
       "      <td>5</td>\n",
       "      <td>大話西遊</td>\n",
       "      <td>29</td>\n",
       "      <td>3</td>\n",
       "      <td>愛情</td>\n",
       "    </tr>\n",
       "    <tr>\n",
       "      <td>6</td>\n",
       "      <td>星願</td>\n",
       "      <td>2</td>\n",
       "      <td>20</td>\n",
       "      <td>愛情</td>\n",
       "    </tr>\n",
       "    <tr>\n",
       "      <td>8</td>\n",
       "      <td>七月與安生</td>\n",
       "      <td>3</td>\n",
       "      <td>19</td>\n",
       "      <td>愛情</td>\n",
       "    </tr>\n",
       "  </tbody>\n",
       "</table>\n",
       "</div>"
      ],
      "text/plain": [
       "    電影名稱  動作鏡頭  接吻鏡頭 電影類別\n",
       "0    前任三     2    15   愛情\n",
       "4   鐵達尼號     1    18   愛情\n",
       "5   大話西遊    29     3   愛情\n",
       "6     星願     2    20   愛情\n",
       "8  七月與安生     3    19   愛情"
      ]
     },
     "execution_count": 8,
     "metadata": {},
     "output_type": "execute_result"
    }
   ],
   "source": [
    "love = film[target == '愛情']\n",
    "love"
   ]
  },
  {
   "cell_type": "code",
   "execution_count": 9,
   "metadata": {},
   "outputs": [
    {
     "data": {
      "text/html": [
       "<div>\n",
       "<style scoped>\n",
       "    .dataframe tbody tr th:only-of-type {\n",
       "        vertical-align: middle;\n",
       "    }\n",
       "\n",
       "    .dataframe tbody tr th {\n",
       "        vertical-align: top;\n",
       "    }\n",
       "\n",
       "    .dataframe thead th {\n",
       "        text-align: right;\n",
       "    }\n",
       "</style>\n",
       "<table border=\"1\" class=\"dataframe\">\n",
       "  <thead>\n",
       "    <tr style=\"text-align: right;\">\n",
       "      <th></th>\n",
       "      <th>動作鏡頭</th>\n",
       "      <th>接吻鏡頭</th>\n",
       "    </tr>\n",
       "  </thead>\n",
       "  <tbody>\n",
       "    <tr>\n",
       "      <td>0</td>\n",
       "      <td>2</td>\n",
       "      <td>15</td>\n",
       "    </tr>\n",
       "    <tr>\n",
       "      <td>4</td>\n",
       "      <td>1</td>\n",
       "      <td>18</td>\n",
       "    </tr>\n",
       "    <tr>\n",
       "      <td>5</td>\n",
       "      <td>29</td>\n",
       "      <td>3</td>\n",
       "    </tr>\n",
       "    <tr>\n",
       "      <td>6</td>\n",
       "      <td>2</td>\n",
       "      <td>20</td>\n",
       "    </tr>\n",
       "    <tr>\n",
       "      <td>8</td>\n",
       "      <td>3</td>\n",
       "      <td>19</td>\n",
       "    </tr>\n",
       "  </tbody>\n",
       "</table>\n",
       "</div>"
      ],
      "text/plain": [
       "   動作鏡頭  接吻鏡頭\n",
       "0     2    15\n",
       "4     1    18\n",
       "5    29     3\n",
       "6     2    20\n",
       "8     3    19"
      ]
     },
     "execution_count": 9,
     "metadata": {},
     "output_type": "execute_result"
    }
   ],
   "source": [
    "love_train = love[['動作鏡頭','接吻鏡頭']]\n",
    "love_train"
   ]
  },
  {
   "cell_type": "code",
   "execution_count": 10,
   "metadata": {},
   "outputs": [
    {
     "data": {
      "text/html": [
       "<div>\n",
       "<style scoped>\n",
       "    .dataframe tbody tr th:only-of-type {\n",
       "        vertical-align: middle;\n",
       "    }\n",
       "\n",
       "    .dataframe tbody tr th {\n",
       "        vertical-align: top;\n",
       "    }\n",
       "\n",
       "    .dataframe thead th {\n",
       "        text-align: right;\n",
       "    }\n",
       "</style>\n",
       "<table border=\"1\" class=\"dataframe\">\n",
       "  <thead>\n",
       "    <tr style=\"text-align: right;\">\n",
       "      <th></th>\n",
       "      <th>電影名稱</th>\n",
       "      <th>動作鏡頭</th>\n",
       "      <th>接吻鏡頭</th>\n",
       "      <th>電影類別</th>\n",
       "    </tr>\n",
       "  </thead>\n",
       "  <tbody>\n",
       "    <tr>\n",
       "      <td>1</td>\n",
       "      <td>復仇者聯盟</td>\n",
       "      <td>36</td>\n",
       "      <td>3</td>\n",
       "      <td>動作</td>\n",
       "    </tr>\n",
       "    <tr>\n",
       "      <td>2</td>\n",
       "      <td>殺破狼</td>\n",
       "      <td>24</td>\n",
       "      <td>1</td>\n",
       "      <td>動作</td>\n",
       "    </tr>\n",
       "    <tr>\n",
       "      <td>3</td>\n",
       "      <td>戰狼</td>\n",
       "      <td>29</td>\n",
       "      <td>2</td>\n",
       "      <td>動作</td>\n",
       "    </tr>\n",
       "    <tr>\n",
       "      <td>7</td>\n",
       "      <td>西遊記</td>\n",
       "      <td>25</td>\n",
       "      <td>2</td>\n",
       "      <td>動作</td>\n",
       "    </tr>\n",
       "  </tbody>\n",
       "</table>\n",
       "</div>"
      ],
      "text/plain": [
       "    電影名稱  動作鏡頭  接吻鏡頭 電影類別\n",
       "1  復仇者聯盟    36     3   動作\n",
       "2    殺破狼    24     1   動作\n",
       "3     戰狼    29     2   動作\n",
       "7    西遊記    25     2   動作"
      ]
     },
     "execution_count": 10,
     "metadata": {},
     "output_type": "execute_result"
    }
   ],
   "source": [
    "action = film[target == '動作']\n",
    "action"
   ]
  },
  {
   "cell_type": "code",
   "execution_count": 11,
   "metadata": {},
   "outputs": [
    {
     "data": {
      "text/html": [
       "<div>\n",
       "<style scoped>\n",
       "    .dataframe tbody tr th:only-of-type {\n",
       "        vertical-align: middle;\n",
       "    }\n",
       "\n",
       "    .dataframe tbody tr th {\n",
       "        vertical-align: top;\n",
       "    }\n",
       "\n",
       "    .dataframe thead th {\n",
       "        text-align: right;\n",
       "    }\n",
       "</style>\n",
       "<table border=\"1\" class=\"dataframe\">\n",
       "  <thead>\n",
       "    <tr style=\"text-align: right;\">\n",
       "      <th></th>\n",
       "      <th>動作鏡頭</th>\n",
       "      <th>接吻鏡頭</th>\n",
       "    </tr>\n",
       "  </thead>\n",
       "  <tbody>\n",
       "    <tr>\n",
       "      <td>1</td>\n",
       "      <td>36</td>\n",
       "      <td>3</td>\n",
       "    </tr>\n",
       "    <tr>\n",
       "      <td>2</td>\n",
       "      <td>24</td>\n",
       "      <td>1</td>\n",
       "    </tr>\n",
       "    <tr>\n",
       "      <td>3</td>\n",
       "      <td>29</td>\n",
       "      <td>2</td>\n",
       "    </tr>\n",
       "    <tr>\n",
       "      <td>7</td>\n",
       "      <td>25</td>\n",
       "      <td>2</td>\n",
       "    </tr>\n",
       "  </tbody>\n",
       "</table>\n",
       "</div>"
      ],
      "text/plain": [
       "   動作鏡頭  接吻鏡頭\n",
       "1    36     3\n",
       "2    24     1\n",
       "3    29     2\n",
       "7    25     2"
      ]
     },
     "execution_count": 11,
     "metadata": {},
     "output_type": "execute_result"
    }
   ],
   "source": [
    "action_train = action[['動作鏡頭','接吻鏡頭']]\n",
    "action_train"
   ]
  },
  {
   "cell_type": "code",
   "execution_count": 12,
   "metadata": {
    "scrolled": false
   },
   "outputs": [
    {
     "data": {
      "image/png": "[encoded data removed]",
      "text/plain": [
       "<Figure size 432x288 with 1 Axes>"
      ]
     },
     "metadata": {
      "needs_background": "light"
     },
     "output_type": "display_data"
    }
   ],
   "source": [
    "plt.scatter(love_train.values[:,0],love_train.values[:,1], color=('blue'))\n",
    "plt.scatter(action_train.values[:,0],action_train.values[:,1], color=('green'))\n",
    "\n",
    "plt.scatter(cat[:,0],cat[:,1],color='red')\n",
    "plt.show()"
   ]
  },
  {
   "cell_type": "code",
   "execution_count": 13,
   "metadata": {},
   "outputs": [
    {
     "data": {
      "text/plain": [
       "KNeighborsClassifier(algorithm='auto', leaf_size=30, metric='minkowski',\n",
       "                     metric_params=None, n_jobs=None, n_neighbors=3, p=2,\n",
       "                     weights='uniform')"
      ]
     },
     "execution_count": 13,
     "metadata": {},
     "output_type": "execute_result"
    }
   ],
   "source": [
    "# 電影的樣本特征\n",
    "train = film[['動作鏡頭','接吻鏡頭']]   \n",
    "# 樣本標簽,即要預測的標簽,這兒要預測新數據是屬於什麽類別的電影\n",
    "\n",
    "target = film['電影類別']\n",
    "\n",
    "# 創建機器學習模型,需要導入\n",
    "\n",
    "from sklearn.neighbors import KNeighborsClassifier\n",
    "\n",
    "# 創建對象, 這兒的數據因為是離散型, 所以使用 KNeighborsClassifier,\n",
    "\n",
    "knn = KNeighborsClassifier(3)  # 更改為 K = 5\n",
    "\n",
    "# 對knn模型進行訓練, 傳入樣本特征 和 樣本標簽\n",
    "# 構建函數原型、構建損失函數、求損失函數最優解\n",
    "\n",
    "knn.fit(train,target)\n",
    "knn"
   ]
  },
  {
   "cell_type": "code",
   "execution_count": 14,
   "metadata": {},
   "outputs": [
    {
     "data": {
      "text/plain": [
       "array(['愛情', '動作', '愛情'], dtype=object)"
      ]
     },
     "execution_count": 14,
     "metadata": {},
     "output_type": "execute_result"
    }
   ],
   "source": [
    "# 這兒隨意寫3個樣本數據,需要按照樣本數據的維度來寫\n",
    "\n",
    "cat=np.array([[5,19],[21,6],[23,24]])\n",
    "\n",
    "# cat=np.array([[21,4]])  也可以寫1個\n",
    "# 使用 predict函數對數據進行預測\n",
    "\n",
    "knn.predict(cat)"
   ]
  },
  {
   "cell_type": "code",
   "execution_count": null,
   "metadata": {
    "collapsed": true
   },
   "outputs": [],
   "source": []
  }
 ],
 "metadata": {
  "kernelspec": {
   "display_name": "Python 3",
   "language": "python",
   "name": "python3"
  },
  "language_info": {
   "codemirror_mode": {
    "name": "ipython",
    "version": 3
   },
   "file_extension": ".py",
   "mimetype": "text/x-python",
   "name": "python",
   "nbconvert_exporter": "python",
   "pygments_lexer": "ipython3",
   "version": "3.7.4"
  }
 },
 "nbformat": 4,
 "nbformat_minor": 2
}
